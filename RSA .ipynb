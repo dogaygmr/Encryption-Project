{
 "cells": [
  {
   "cell_type": "code",
   "execution_count": 1,
   "id": "2139819e",
   "metadata": {},
   "outputs": [],
   "source": [
    "import math"
   ]
  },
  {
   "cell_type": "code",
   "execution_count": 2,
   "id": "213af2c4",
   "metadata": {},
   "outputs": [
    {
     "name": "stdout",
     "output_type": "stream",
     "text": [
      "Entrez un nombre premier pour p et tapez enter: 3\n",
      "Entrez un nombre premier pour q et tapez enter: 5\n"
     ]
    }
   ],
   "source": [
    "p = int(input(\"Entrez un nombre premier pour p et tapez enter: \"))\n",
    "q = int(input(\"Entrez un nombre premier pour q et tapez enter: \"))"
   ]
  },
  {
   "cell_type": "code",
   "execution_count": 3,
   "id": "4796cfba",
   "metadata": {},
   "outputs": [],
   "source": [
    "#Vérifiez si les entrées sont un nombre premier\n",
    "def prime_check(a):\n",
    "    if(a==2):\n",
    "        return True\n",
    "    elif((a<2) or ((a%2)==0)):\n",
    "        return False\n",
    "    elif(a>2):\n",
    "        for i in range(2,a):\n",
    "            if not(a%i):\n",
    "                return false\n",
    "    return True\n",
    " \n",
    "check_p = prime_check(p)\n",
    "check_q = prime_check(q)\n",
    "while(((check_p==False)or(check_q==False))):\n",
    "    p = int(input(\"Entrez un nombre premier pour p: \"))\n",
    "    q = int(input(\"Entrez un nombre premier pour q: \"))\n",
    "    check_p = prime_check(p)\n",
    "    check_q = prime_check(q)\n",
    " "
   ]
  },
  {
   "cell_type": "code",
   "execution_count": 4,
   "id": "26604e84",
   "metadata": {},
   "outputs": [
    {
     "name": "stdout",
     "output_type": "stream",
     "text": [
      "RSA Modulus(n) is: 15\n"
     ]
    }
   ],
   "source": [
    "# Calculons « n= p.q »\n",
    "n = p * q\n",
    "print(\"RSA Modulus(n) is:\",n)"
   ]
  },
  {
   "cell_type": "code",
   "execution_count": 5,
   "id": "04c9f0f6",
   "metadata": {},
   "outputs": [
    {
     "name": "stdout",
     "output_type": "stream",
     "text": [
      "Eulers Toitent(r) is: 8\n"
     ]
    }
   ],
   "source": [
    "#Calculons la fonction de Totient « φ(n) = (p-1).(q-1) »\n",
    "r= (p-1)*(q-1)\n",
    "print(\"Eulers Toitent(r) is:\",r)"
   ]
  },
  {
   "cell_type": "code",
   "execution_count": 6,
   "id": "c0d7b065",
   "metadata": {},
   "outputs": [],
   "source": [
    "#GCD\n",
    "def egcd(e,r):\n",
    "    while(r!=0):\n",
    "        e,r=r,e%r\n",
    "    return e"
   ]
  },
  {
   "cell_type": "code",
   "execution_count": 7,
   "id": "8066fcf7",
   "metadata": {},
   "outputs": [],
   "source": [
    "#Algorithme d'Euclide \n",
    "def eugcd(e,r):\n",
    "    for i in range(1,r):\n",
    "        while(e!=0):\n",
    "            a,b=r//e,r%e\n",
    "            if(b!=0):\n",
    "                print(\"%d = %d*(%d) + %d\"%(r,a,e,b))\n",
    "            r=e\n",
    "            e=b"
   ]
  },
  {
   "cell_type": "code",
   "execution_count": 8,
   "id": "b25421a7",
   "metadata": {},
   "outputs": [],
   "source": [
    "#Algorithme d'Euclide Etendu\n",
    "def eea(a,b):\n",
    "    if(a%b==0):\n",
    "        return(b,0,1)\n",
    "    else:\n",
    "        gcd,s,t = eea(b,a%b)\n",
    "        s = s-((a//b) * t)\n",
    "        print(\"%d = %d*(%d) + (%d)*(%d)\"%(gcd,a,t,s,b))\n",
    "        return(gcd,t,s)"
   ]
  },
  {
   "cell_type": "code",
   "execution_count": 9,
   "id": "ed8d1fd9",
   "metadata": {},
   "outputs": [],
   "source": [
    "#l’inverse modulaire\n",
    "def mult_inv(e,r):\n",
    "    gcd,s,_=eea(e,r)\n",
    "    if(gcd!=1):\n",
    "        return None\n",
    "    else:\n",
    "        if(s<0):\n",
    "            print(\"s=%d. Puisque %d est inférieur à 0, s = s(modr), c'est-à-dire s=%d.\"%(s,s,s%r))\n",
    "        elif(s>0):\n",
    "            print(\"s=%d.\"%(s))\n",
    "        return s%r"
   ]
  },
  {
   "cell_type": "code",
   "execution_count": 10,
   "id": "0d4f2203",
   "metadata": {},
   "outputs": [
    {
     "name": "stdout",
     "output_type": "stream",
     "text": [
      "La valeur de e: 999\n"
     ]
    }
   ],
   "source": [
    "# Calculons la valeur de e\n",
    "#TROUVONS LA VALEUR LA PLUS ÉLEVÉE POSSIBLE DE 'e' ENTRE 1 ET 1000 QUI REND (e,r) COPRIME\n",
    "for i in range(1,1000):\n",
    "    if(egcd(i,r)==1):\n",
    "        e=i\n",
    "print(\"La valeur de e:\",e)\n"
   ]
  },
  {
   "cell_type": "code",
   "execution_count": 11,
   "id": "96ff661e",
   "metadata": {},
   "outputs": [
    {
     "name": "stdout",
     "output_type": "stream",
     "text": [
      "Algorithme d'Euclide :\n",
      "8 = 0*(999) + 8\n",
      "999 = 124*(8) + 7\n",
      "8 = 1*(7) + 1\n",
      "#lgorithme d'Euclide Etendu:\n",
      "1 = 8*(1) + (-1)*(7)\n",
      "1 = 999*(-1) + (125)*(8)\n",
      "s=-1. Puisque -1 est inférieur à 0, s = s(modr), c'est-à-dire s=7.\n",
      "La valeur de d: 7\n",
      "La clé privée: (7, 15)\n",
      "La clé public: (999, 15)\n"
     ]
    }
   ],
   "source": [
    "#Calculons la valeur de d, la clé public et la clé privée'\n",
    "print(\"Algorithme d'Euclide :\")\n",
    "eugcd(e,r)\n",
    "\n",
    "print(\"#lgorithme d'Euclide Etendu:\")\n",
    "d = mult_inv(e,r)\n",
    "\n",
    "print(\"La valeur de d:\",d)\n",
    "\n",
    "public = (e,n)\n",
    "private = (d,n)\n",
    "print(\"La clé privée:\",private)\n",
    "print(\"La clé public:\",public)\n"
   ]
  },
  {
   "cell_type": "code",
   "execution_count": 12,
   "id": "d362c6ec",
   "metadata": {},
   "outputs": [],
   "source": [
    "#chiffrement\n",
    "def encrypt(pub_key,n_text):\n",
    "    e,n=pub_key\n",
    "    x=[]\n",
    "    m=0\n",
    "    for i in n_text:\n",
    "        if(i.isupper()):\n",
    "            m = ord(i)-65\n",
    "            c=(m**e)%n\n",
    "            x.append(c)\n",
    "        elif(i.islower()):               \n",
    "            m= ord(i)-97\n",
    "            c=(m**e)%n\n",
    "            x.append(c)\n",
    "        elif(i.isspace()):\n",
    "            spc=400\n",
    "            x.append(400)\n",
    "    return x"
   ]
  },
  {
   "cell_type": "code",
   "execution_count": 13,
   "id": "5ddcbdf8",
   "metadata": {},
   "outputs": [],
   "source": [
    "#Dechiffrement\n",
    "\n",
    "def decrypt(priv_key,c_text):\n",
    "    d,n=priv_key\n",
    "    txt=c_text.split(',')\n",
    "    x=''\n",
    "    m=0\n",
    "    for i in txt:\n",
    "        if(i=='400'):\n",
    "            x+=' '\n",
    "        else:\n",
    "            m=(int(i)**d)%n\n",
    "            m+=65\n",
    "            c=chr(m)\n",
    "            x+=c\n",
    "    return x"
   ]
  },
  {
   "cell_type": "code",
   "execution_count": 16,
   "id": "87029d08",
   "metadata": {},
   "outputs": [
    {
     "name": "stdout",
     "output_type": "stream",
     "text": [
      "Tapez '1' pour le cryptage et '2' pour le décryptage.2\n",
      "mettez les virgules entre les nombres\n",
      "Votre message ? :12,4,3,2\n",
      "votre message decrypté: DEMI\n"
     ]
    }
   ],
   "source": [
    " \n",
    "choose = input(\"Tapez '1' pour le cryptage et '2' pour le décryptage.\")\n",
    "if(choose=='1'):\n",
    "    message = input(\"Votre message? :\")\n",
    "    enc_msg=encrypt(public,message)\n",
    "    print(\"votre message crypté:\",enc_msg)\n",
    "elif(choose=='2'):\n",
    "    print(\"******************\")\n",
    "    print(\"mettez les virgules entre les nombres\")\n",
    "    message = input(\"Votre message ? :\")\n",
    "    print(\"votre message decrypté:\",decrypt(private,message))\n",
    "else:\n",
    "    print(\"Mauvaise option, réessayez !!\")"
   ]
  },
  {
   "cell_type": "code",
   "execution_count": null,
   "id": "daf1b4f0",
   "metadata": {},
   "outputs": [],
   "source": []
  },
  {
   "cell_type": "code",
   "execution_count": null,
   "id": "4680b551",
   "metadata": {},
   "outputs": [],
   "source": []
  }
 ],
 "metadata": {
  "kernelspec": {
   "display_name": "Python 3 (ipykernel)",
   "language": "python",
   "name": "python3"
  },
  "language_info": {
   "codemirror_mode": {
    "name": "ipython",
    "version": 3
   },
   "file_extension": ".py",
   "mimetype": "text/x-python",
   "name": "python",
   "nbconvert_exporter": "python",
   "pygments_lexer": "ipython3",
   "version": "3.7.9"
  }
 },
 "nbformat": 4,
 "nbformat_minor": 5
}
