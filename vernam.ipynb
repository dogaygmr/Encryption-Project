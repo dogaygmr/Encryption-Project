{
 "cells": [
  {
   "cell_type": "code",
   "execution_count": 1,
   "id": "4b77feaa",
   "metadata": {},
   "outputs": [
    {
     "name": "stdout",
     "output_type": "stream",
     "text": [
      "Enter Key: abcd\n",
      "Enter Key: hell\n",
      "CipherText:  hfno\n",
      "PlainBack:  hell\n"
     ]
    }
   ],
   "source": [
    "def Vernam(Plain,Key,Flag):\n",
    "    result=\"\"\n",
    "    for i in range(len(Plain)):\n",
    "        char=Plain[i]\n",
    "        if(Flag):\n",
    "            result+=chr((ord(char)-97 +ord(Key[i])-97)%26 +97)\n",
    "        else:\n",
    "            result += chr((ord(char) - ord(Key[i])+26) % 26 + 97)\n",
    "    return result\n",
    "# assumption: nous ne considérons que les valeurs minuscules et sans espaces\n",
    "\n",
    "\n",
    "if __name__==\"__main__\":\n",
    "    Key=''.join(input(\"Enter Key: \").lower().split()) #La clé\n",
    "    Plain=''.join(input(\"Enter Key: \").lower().split()) #la texte qu'on chiffre\n",
    "    if(len(Key)!=len(Plain)):                          #Verifions la principe de longeur\n",
    "        print(\"La clé n'est pas valide!\")\n",
    "        exit(None)\n",
    "    CipherText=Vernam(Plain,Key,True)\n",
    "    print(\"CipherText: \",CipherText)\n",
    "    print(\"PlainBack: \",Vernam(CipherText,Key,False))"
   ]
  },
  {
   "cell_type": "code",
   "execution_count": null,
   "id": "56cf4cef",
   "metadata": {},
   "outputs": [],
   "source": []
  }
 ],
 "metadata": {
  "kernelspec": {
   "display_name": "Python 3 (ipykernel)",
   "language": "python",
   "name": "python3"
  },
  "language_info": {
   "codemirror_mode": {
    "name": "ipython",
    "version": 3
   },
   "file_extension": ".py",
   "mimetype": "text/x-python",
   "name": "python",
   "nbconvert_exporter": "python",
   "pygments_lexer": "ipython3",
   "version": "3.7.9"
  }
 },
 "nbformat": 4,
 "nbformat_minor": 5
}
