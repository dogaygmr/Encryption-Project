{
 "cells": [
  {
   "cell_type": "code",
   "execution_count": 3,
   "id": "02de1952",
   "metadata": {},
   "outputs": [
    {
     "name": "stdout",
     "output_type": "stream",
     "text": [
      "le base g = 33\n",
      "le nombre premier p = 41\n",
      "la clé privée de Alice :5\n",
      "la clé privée de Bob :2\n",
      "la clé secrète pour Alice : 40\n",
      "la clé secrète pour Bob : 40\n"
     ]
    }
   ],
   "source": [
    "from random import randint\n",
    "\n",
    "if __name__ == '__main__':\n",
    "    \n",
    "#choisissons une base g et un nombre premier p\n",
    "    g = 33\n",
    "    p = 41\n",
    "\n",
    "\n",
    "    print('le base g = %d'%(g))\n",
    "    print('le nombre premier p = %d'%(p))\n",
    "\n",
    "\n",
    "    #Alice choisit un nombre secret a\n",
    "    a = 5\n",
    "    print('la clé privée de Alice :%d'%(a))\n",
    "\n",
    "    # Bob choisit un nombre secret b\n",
    "    b = 2\n",
    "    print('la clé privée de Bob :%d'%(b))\n",
    "\n",
    "\n",
    "    # Alice et Bob calculent les valeurs publiques\n",
    "    A= int(pow(g,a,p))\n",
    "    B = int(pow(g,b,p))\n",
    "\n",
    "\n",
    "    # la clé secrète pour Alice : ((g^B mod p)a mod p)\n",
    "    SA = int(pow(B,a,p))\n",
    "\n",
    "    # la clé secrète pour Bob : ((g^A mod p)b mod p)\n",
    "    SB = int(pow(A,b,p))\n",
    "\n",
    "    print('la clé secrète pour Alice : %d'%(SA))\n",
    "    print('la clé secrète pour Bob : %d'%(SB))\n"
   ]
  },
  {
   "cell_type": "code",
   "execution_count": null,
   "id": "834b3e1c",
   "metadata": {},
   "outputs": [],
   "source": []
  }
 ],
 "metadata": {
  "kernelspec": {
   "display_name": "Python 3 (ipykernel)",
   "language": "python",
   "name": "python3"
  },
  "language_info": {
   "codemirror_mode": {
    "name": "ipython",
    "version": 3
   },
   "file_extension": ".py",
   "mimetype": "text/x-python",
   "name": "python",
   "nbconvert_exporter": "python",
   "pygments_lexer": "ipython3",
   "version": "3.7.9"
  }
 },
 "nbformat": 4,
 "nbformat_minor": 5
}
